{
 "cells": [
  {
   "cell_type": "code",
   "execution_count": 155,
   "metadata": {
    "scrolled": true
   },
   "outputs": [],
   "source": [
    "%matplotlib inline\n",
    "import numpy as np\n",
    "import pandas as pd\n",
    "import math\n",
    "\n",
    "#Imports sklearn ------------------------------------------\n",
    "\n",
    "#tfidf\n",
    "from sklearn.feature_extraction.text import TfidfTransformer\n",
    "from sklearn.feature_extraction.text import CountVectorizer\n",
    "from sklearn.neighbors import KNeighborsClassifier\n",
    "\n",
    "#Imports nltk ---------------------------------------------\n",
    "import nltk\n",
    "from nltk.stem.snowball import SnowballStemmer\n",
    "\n",
    "from bs4 import BeautifulSoup\n",
    "\n"
   ]
  },
  {
   "cell_type": "markdown",
   "metadata": {},
   "source": [
    "# Carregando Dataset de Perguntas e Respostas"
   ]
  },
  {
   "cell_type": "code",
   "execution_count": null,
   "metadata": {},
   "outputs": [],
   "source": []
  },
  {
   "cell_type": "code",
   "execution_count": 156,
   "metadata": {},
   "outputs": [],
   "source": [
    "def load( path ):\n",
    "    df = pd.read_csv(path);\n",
    "    \n",
    "    perguntas = [];\n",
    "    respostas = [];\n",
    "    id_repostas = [];\n",
    "\n",
    "    for row in df.iterrows():\n",
    "        row = row[1];\n",
    "        perguntas.append(BeautifulSoup(row.get(\"perguntas\"), 'html.parser').get_text());\n",
    "        respostas.append(BeautifulSoup(row.get(\"respostas\"), 'html.parser').get_text());\n",
    "        id_repostas.append(row.get(\"idResp\"));\n",
    "        \n",
    "    return perguntas, respostas, id_repostas; \n",
    "\n",
    "perguntas, respostas, id_repostas = load(\"./QueryResults.csv\");"
   ]
  },
  {
   "cell_type": "code",
   "execution_count": 157,
   "metadata": {},
   "outputs": [
    {
     "data": {
      "text/plain": [
       "('Diversas linguagens possuem um meio de se obter a \"identidade\" de um objeto, i.e. um número [inteiro] que é único para cada objeto, tal que objetos diferentes tenham identidades diferentes. Exemplos:\\n\\nJava (System.identityHashCode)\\n\\n\\nTanto quanto razoavelmente prático, o método hashCode definido pela classe Object retorna inteiros distintos para objetos distintos. (Isto é tipicamente implementado convertendo o endereço interno do objeto em um inteiro, mas essa técnica de implementação não é exigida pela linguagem de programação Java.)\\n\\n\\nPython (id)\\n\\n\\nRetorna a \"identidade\" de um objeto. Isto é um inteiro (ou inteiro longo) que é garantido ser único e constante para esse objeto durante seu ciclo de vida. Dois objetos com tempo de vida não sobrepostos podem ter o mesmo valor para id().\\n\\nExiste alguma funcionalidade semelhante em JavaScript? De preferência padronizada, que funcionasse em todos os browsers e outros ambientes (Rhino, V8). Buscando por \"identity\" eu somente encontro referências para o operador (===)...\\nSei que alguns ambientes não suportam esse conceito (.NET aparentemente não o faz por razões de otimização), mas em geral isso não é problema pois são linguagens mais completas, que possuem os conceitos de destrutor, finalizador e/ou referências fracas. Até onde eu saiba, JavaScript não suporta isso, de modo que uma maneira de se obter um valor numérico que unicamente representa um objeto seria muito útil (uma simples referência pro objeto não serve, pois ela o impediria de ser coletado como lixo).\\n',\n",
       " \"A especificação ECMA-262 não prevê essa funcionalidade na linguagem, e não tenho conhecimento de nenhum motor de JavaScript que implemente isso.\\nSe quiser implementar você mesmo, um ponto de partida é isto (baseado nesta resposta em inglês):\\n(function(){\\n    var id = 0;\\n    Object.prototype.getIdentity = function() {\\n        if(!this.hasOwnProperty('__identity__')) {\\n            this.__identity__ = ++id;\\n        }\\n        return this.__identity__;\\n    };\\n}());\\n\\nNote que __identity__ é uma propriedade pública que todos os objetos que invocaram getIdentity uma vez passam a ter. Portanto nada impede que ela seja manipulada diretamente, o que potencialmente comprometeria os resultados.\\nUma implementação com recursos do ECMAScript 5 (ou seja, incompatível com motores antigos como o do IE8) consegue impedir isso:\\n(function(){\\n    var id = 0;\\n    Object.prototype.getIdentity = function() {\\n        if(!this.hasOwnProperty('__identity__')) {\\n            Object.defineProperty(this, '__identity__', { \\n                enumerable: false,\\n                writable: false,\\n                value: ++id \\n            });\\n        }\\n        return this.__identity__;\\n    };\\n}());\\n\\nO atributo writable: false garante que o valor de __identity__ não possa ser alterado manualmente. E enumerable: false omite a propriedade de enumerações for..in, ou serialização via JSON.stringify, conforme a sugestão do talles.\\n\")"
      ]
     },
     "execution_count": 157,
     "metadata": {},
     "output_type": "execute_result"
    }
   ],
   "source": [
    "perguntas[0], respostas[0]"
   ]
  },
  {
   "cell_type": "code",
   "execution_count": 158,
   "metadata": {},
   "outputs": [],
   "source": [
    "stemmer = SnowballStemmer('portuguese')\n",
    "stopwords = nltk.corpus.stopwords.words('portuguese')"
   ]
  },
  {
   "cell_type": "code",
   "execution_count": 159,
   "metadata": {},
   "outputs": [
    {
     "data": {
      "text/plain": [
       "\"divers linguagens possu mei obter `` ident '' objet , i.e . númer [ inteir ] é únic cad objet , tal objet diferent ident diferent . exempl : jav ( system.identityhashcod ) tant quant razoavel prátic , métod hashcod defin class object retorn inteir distint objet distint . ( isto é tipic implement convert enderec intern objet inteir , técnic implement é exig linguag program jav . ) python ( id ) retorn `` ident '' objet . isto é inteir ( inteir long ) é garant ser únic constant objet durant cicl vid . dois objet temp vid sobrepost pod ter valor id ( ) . exist algum funcional semelh javascript ? de preferent padroniz , funcion tod browsers outr ambient ( rhin , v8 ) . busc `` identity '' soment encontr referent oper ( === ) ... sei alguns ambient suport conceit ( .net aparent faz razõ otimiz ) , geral é problem pois linguagens complet , possu conceit destrutor , finaliz e/ou referent frac . até onde saib , javascript suport , mod maneir obter valor numér unic represent objet útil ( simpl referent pro objet serv , pois imped ser colet lix ) .\""
      ]
     },
     "execution_count": 159,
     "metadata": {},
     "output_type": "execute_result"
    }
   ],
   "source": [
    "caracteresIgnorados = ['\\t','\\n']\n",
    "pergunta_processed = []\n",
    "for pergunta in perguntas:\n",
    "    tokenizedText = nltk.word_tokenize(pergunta,language='portuguese')\n",
    "    stemmedText = [stemmer.stem(t) for t in tokenizedText if t not in stopwords and not t in caracteresIgnorados]\n",
    "    pergunta_processed.append(\" \".join(stemmedText))\n",
    "    \n",
    "pergunta_processed[0]"
   ]
  },
  {
   "cell_type": "code",
   "execution_count": 160,
   "metadata": {},
   "outputs": [
    {
     "name": "stdout",
     "output_type": "stream",
     "text": [
      "Total de tokens: 10900\n"
     ]
    }
   ],
   "source": [
    "cv = CountVectorizer()\n",
    "\n",
    "X_counts = cv.fit_transform(pergunta_processed)\n",
    "tf_transformer = TfidfTransformer(use_idf=True).fit(X_counts)\n",
    "text_tf = tf_transformer.transform(X_counts)\n",
    "\n",
    "print(\"Total de tokens: {}\".format(text_tf.shape[1]))"
   ]
  },
  {
   "cell_type": "code",
   "execution_count": 161,
   "metadata": {},
   "outputs": [
    {
     "data": {
      "text/plain": [
       "KNeighborsClassifier(algorithm='auto', leaf_size=30, metric='minkowski',\n",
       "           metric_params=None, n_jobs=None, n_neighbors=5, p=2,\n",
       "           weights='distance')"
      ]
     },
     "execution_count": 161,
     "metadata": {},
     "output_type": "execute_result"
    }
   ],
   "source": [
    "trainText = text_tf.toarray()\n",
    "\n",
    "model = KNeighborsClassifier(algorithm='auto', leaf_size=30, metric='minkowski',\n",
    "           metric_params=None, n_jobs=None, n_neighbors=5, p=2,\n",
    "           weights='distance')\n",
    "model.fit(trainText, id_repostas)\n",
    "#len(trainText), len(id_repostas)"
   ]
  },
  {
   "cell_type": "code",
   "execution_count": 174,
   "metadata": {},
   "outputs": [],
   "source": [
    "def process_new(new):\n",
    "    tokenizedText = nltk.word_tokenize(new)\n",
    "    stemmedText = [stemmer.stem(t) for t in tokenizedText if t not in stopwords]\n",
    "\n",
    "    text = [word for word in stemmedText if not word in caracteresIgnorados]\n",
    "    text = \" \".join(text)\n",
    "    cv_text = cv.transform([text])\n",
    "    \n",
    "    return tf_transformer.transform(cv_text)\n",
    "\n",
    "def classify_new(new):\n",
    "    \n",
    "    processed_new = process_new(new).toarray()\n",
    "    y = model.predict(processed_new) \n",
    "    index = int (id_repostas.index(y))\n",
    "    print(index)\n",
    "    #if len(y) == 1:\n",
    "    #    y = y[0]\n",
    "    #\n",
    "    print(\"{}: {}\".format('KNN Reposta: ',respostas[index]))"
   ]
  },
  {
   "cell_type": "code",
   "execution_count": 175,
   "metadata": {},
   "outputs": [],
   "source": [
    "new = 'Diversas linguagens possuem um meio de se obter a \"identidade\" de um objeto, i.e. um número [inteiro] que é único para cada objeto, tal que objetos diferentes tenham identidades diferentes. Exemplos:Java (System.identityHashCode) Tanto quanto razoavelmente prático, o método hashCode definido pela classe Object retorna inteiros distintos para objetos distintos. (Isto é tipicamente implementado convertendo o endereço interno do objeto em um inteiro, mas essa técnica de implementação não é exigida pela linguagem de programação Java.)\\n\\n\\nPython (id)\\n\\n\\nRetorna a \"identidade\" de um objeto. Isto é um inteiro (ou inteiro longo) que é garantido ser único e constante para esse objeto durante seu ciclo de vida. Dois objetos com tempo de vida não sobrepostos podem ter o mesmo valor para id().\\n\\nExiste alguma funcionalidade semelhante em JavaScript? De preferência padronizada, que funcionasse em todos os browsers e outros ambientes (Rhino, V8). Buscando por \"identity\" eu somente encontro referências para o operador (===)...\\nSei que alguns ambientes não suportam esse conceito (.NET aparentemente não o faz por razões de otimização), mas em geral isso não é problema pois são linguagens mais completas, que possuem os conceitos de destrutor, finalizador e/ou referências fracas. Até onde eu saiba, JavaScript não suporta isso, de modo que uma maneira de se obter um valor numérico que unicamente representa um objeto seria muito útil (uma simples referência pro objeto não serve, pois ela o impediria de ser coletado como lixo).'"
   ]
  },
  {
   "cell_type": "code",
   "execution_count": 176,
   "metadata": {},
   "outputs": [
    {
     "name": "stdout",
     "output_type": "stream",
     "text": [
      "0\n",
      "KNN Reposta: : A especificação ECMA-262 não prevê essa funcionalidade na linguagem, e não tenho conhecimento de nenhum motor de JavaScript que implemente isso.\n",
      "Se quiser implementar você mesmo, um ponto de partida é isto (baseado nesta resposta em inglês):\n",
      "(function(){\n",
      "    var id = 0;\n",
      "    Object.prototype.getIdentity = function() {\n",
      "        if(!this.hasOwnProperty('__identity__')) {\n",
      "            this.__identity__ = ++id;\n",
      "        }\n",
      "        return this.__identity__;\n",
      "    };\n",
      "}());\n",
      "\n",
      "Note que __identity__ é uma propriedade pública que todos os objetos que invocaram getIdentity uma vez passam a ter. Portanto nada impede que ela seja manipulada diretamente, o que potencialmente comprometeria os resultados.\n",
      "Uma implementação com recursos do ECMAScript 5 (ou seja, incompatível com motores antigos como o do IE8) consegue impedir isso:\n",
      "(function(){\n",
      "    var id = 0;\n",
      "    Object.prototype.getIdentity = function() {\n",
      "        if(!this.hasOwnProperty('__identity__')) {\n",
      "            Object.defineProperty(this, '__identity__', { \n",
      "                enumerable: false,\n",
      "                writable: false,\n",
      "                value: ++id \n",
      "            });\n",
      "        }\n",
      "        return this.__identity__;\n",
      "    };\n",
      "}());\n",
      "\n",
      "O atributo writable: false garante que o valor de __identity__ não possa ser alterado manualmente. E enumerable: false omite a propriedade de enumerações for..in, ou serialização via JSON.stringify, conforme a sugestão do talles.\n",
      "\n"
     ]
    }
   ],
   "source": [
    "classify_new(new);"
   ]
  },
  {
   "cell_type": "code",
   "execution_count": 181,
   "metadata": {},
   "outputs": [
    {
     "name": "stdout",
     "output_type": "stream",
     "text": [
      "10\n",
      "KNN Reposta: : São todo protótipos do objeto Function onde tem como objetivo executar uma função passando por ela um diferente contexto e argumentos.\n",
      "\n",
      "call: contexto, param1, param2, param3, ...\n",
      "apply: contexto, array de parametros\n",
      "\n",
      "Já o bind ele é um pouco diferente e mais novo, nem todos browsers tem suporte, ele vai criar um \"wrapper\" da sua função, resultando em uma nova função, com contexto e argumentos fixos.\n",
      "Por exemplo:\n",
      "function foo(nome, idade) { return 'ola '+nome+', você tem '+idade}\n",
      "\n",
      "var joao = foo.bind(window, 'joao');\n",
      "joao('23'); // ola joao, você tem 23\n",
      "joao('26'); // ola joao, você tem 26\n",
      "\n",
      "// o que é o mesmo que:\n",
      "var joao = function (idade) {\n",
      "    return foo('joao', idade);\n",
      "}\n",
      "// porém evita bastante rescrita no seu código\n",
      "// mantive o argumento nomeado como `idade` para fins didaticos o que\n",
      "// é feito na realidade é não passar argumentos e o segundo argumento em\n",
      "// foo seria `arguments[0]` dentro da função anonima do joao que é um wrapper\n",
      "\n",
      "Voltando ao call e apply que são muito parecidos, vamos falar de contexto.\n",
      "pessoa = { \n",
      "    idade: 10, \n",
      "    bar: function (nome) { \n",
      "        return 'ola '+nome+', vc tem '+this.idade+' anos';\n",
      "    }\n",
      "};\n",
      "\n",
      "pessoa2 = {\n",
      "    idade: 20\n",
      "}\n",
      "\n",
      "pessoa.bar('joao'); // ola joao, vc tem 10 anos\n",
      "\n",
      "// Pessoa 2 não tem o método bar, mas podemos usar da pessoa emprestado\n",
      "pessoa.bar.call(pessoa2, 'joao'); // ola joao, vc tem 20 anos\n",
      "\n",
      "//ou com apply\n",
      "\n",
      "pessoa.bar.apply(pessoa2, ['joao']);  // ola joao, vc tem 20 anos\n",
      "\n",
      "Call é muito bom pra transportar argumentos de um método pra outro.\n",
      "function fazerAlgo(callback, arg1, arg2) {\n",
      "    var args = Array.prototype.splice.call(arguments, 1);\n",
      "    return callback.apply(this, args);\n",
      "}\n",
      "\n",
      "fazerAlgo(function (arg1, arg2) {\n",
      "    console.log(arg1);\n",
      "    console.log(arg2);\n",
      "}, 'foo', 'bar');\n",
      "// Escreve no console:\n",
      "// 'foo'\n",
      "// 'bar'\n",
      "\n",
      "\n"
     ]
    }
   ],
   "source": [
    "new = 'As vezes utilizo o método load e não sei quais as diferenças entre eles. Métodos: load(arg) load.apply load.call load.bind'\n",
    "classify_new(new);"
   ]
  },
  {
   "cell_type": "code",
   "execution_count": null,
   "metadata": {},
   "outputs": [],
   "source": []
  }
 ],
 "metadata": {
  "kernelspec": {
   "display_name": "Python 2",
   "language": "python",
   "name": "python2"
  },
  "language_info": {
   "codemirror_mode": {
    "name": "ipython",
    "version": 3
   },
   "file_extension": ".py",
   "mimetype": "text/x-python",
   "name": "python",
   "nbconvert_exporter": "python",
   "pygments_lexer": "ipython3",
   "version": "3.6.7"
  }
 },
 "nbformat": 4,
 "nbformat_minor": 2
}
